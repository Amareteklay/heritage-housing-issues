{
  "cells": [
    {
      "cell_type": "markdown",
      "metadata": {
        "id": "0aStgWSO0E0E"
      },
      "source": [
        "# Correlation Study Notebook"
      ]
    },
    {
      "cell_type": "markdown",
      "metadata": {
        "id": "1eLEkw5O0ECa"
      },
      "source": [
        "## Objectives\n",
        "\n",
        "* Answer business requirement 1: \n",
        "  * The client is interested in discovering how the house attributes correlate with the sale price.\n",
        "\n",
        "## Inputs\n",
        "\n",
        "* outputs/datasets/cleaned/HousePricesCleaned.csv\n",
        "\n",
        "## Outputs\n",
        "\n",
        "* Generate code that answers business requirement 1 and can be used to build Streamlit App\n",
        "\n",
        "## Conclusions\n",
        "\n",
        "* Higher values of 1stFlrSF, garage area, GrLivArea, MasVnrArea and TotalBsmtSF are associated with higher sale price.\n",
        "* Houses with recently built garages or recently added remods have higher prices than those of earlier ones.  \n",
        "* Higher Overall quality indicates higher sale prices but kitchen quality does not show clear pattern. \n"
      ]
    },
    {
      "cell_type": "markdown",
      "metadata": {
        "id": "9uWZXH9LwoQg"
      },
      "source": [
        "---"
      ]
    },
    {
      "cell_type": "markdown",
      "metadata": {
        "id": "cqP-UeN-z3i2"
      },
      "source": [
        "# Change working directory"
      ]
    },
    {
      "cell_type": "markdown",
      "metadata": {
        "id": "aOGIGS-uz3i2"
      },
      "source": [
        "We need to change the working directory from its current folder to its parent folder\n",
        "* We access the current directory with os.getcwd()"
      ]
    },
    {
      "cell_type": "code",
      "execution_count": null,
      "metadata": {
        "id": "wZfF_j-Bz3i4",
        "outputId": "66943449-1436-4c3d-85c7-b85f9f78349b"
      },
      "outputs": [],
      "source": [
        "import os\n",
        "current_dir = os.getcwd()\n",
        "current_dir"
      ]
    },
    {
      "cell_type": "markdown",
      "metadata": {
        "id": "9MWW8E7lz3i7"
      },
      "source": [
        "We want to make the parent of the current directory the new current directory\n",
        "* os.path.dirname() gets the parent directory\n",
        "* os.chir() defines the new current directory"
      ]
    },
    {
      "cell_type": "code",
      "execution_count": null,
      "metadata": {
        "id": "TwHsQRWjz3i9",
        "outputId": "86849db3-cd2f-4cc5-ebb8-2d0caafa1a2c"
      },
      "outputs": [],
      "source": [
        "os.chdir(os.path.dirname(current_dir))\n",
        "print(\"You set a new current directory\")"
      ]
    },
    {
      "cell_type": "markdown",
      "metadata": {
        "id": "M_xPk_Ijz3i-"
      },
      "source": [
        "Confirm the new current directory"
      ]
    },
    {
      "cell_type": "code",
      "execution_count": null,
      "metadata": {
        "id": "vz3S-_kjz3jA",
        "outputId": "00b79ae4-75d0-4a96-d193-ac9ef9847ea2"
      },
      "outputs": [],
      "source": [
        "current_dir = os.getcwd()\n",
        "current_dir"
      ]
    },
    {
      "cell_type": "markdown",
      "metadata": {
        "id": "-mavJ8DibrcQ"
      },
      "source": [
        "# Load Data"
      ]
    },
    {
      "cell_type": "code",
      "execution_count": null,
      "metadata": {},
      "outputs": [],
      "source": [
        "import pandas as pd\n",
        "df = pd.read_csv(\"outputs/datasets/cleaned/HousePricesCleaned.csv\")\n",
        "df.head(5)"
      ]
    },
    {
      "cell_type": "markdown",
      "metadata": {},
      "source": [
        "# Data Exploration"
      ]
    },
    {
      "cell_type": "markdown",
      "metadata": {},
      "source": [
        "We start with data profiling report so that we get more familiar with the content of the dataset. We check variable type and distribution, missing levels and how each variable may related to our target.\n",
        "* We import pandas_profiling library and generate a profile report of our data\n",
        "* Nine features have missing values.\n",
        "* EnclosedPorch and WoodDeckSF have 90.7% and 89.4% missing values respectively."
      ]
    },
    {
      "cell_type": "code",
      "execution_count": null,
      "metadata": {},
      "outputs": [],
      "source": [
        "from pandas_profiling import ProfileReport\n",
        "pandas_report = ProfileReport(df=df, minimal=True)\n",
        "pandas_report.to_notebook_iframe()"
      ]
    },
    {
      "cell_type": "markdown",
      "metadata": {
        "id": "ZY3l0-AxO93d"
      },
      "source": [
        "---"
      ]
    },
    {
      "cell_type": "markdown",
      "metadata": {
        "id": "uFQo3ycuO-v6"
      },
      "source": [
        "## Correlation and PPS Analysis"
      ]
    },
    {
      "cell_type": "markdown",
      "metadata": {},
      "source": [
        "Our dataset has four categorical variables that are of object data type. So we need to encode them so that we can use them to calculate correlation coefficients."
      ]
    },
    {
      "cell_type": "code",
      "execution_count": 12,
      "metadata": {},
      "outputs": [],
      "source": [
        "import numpy as np\n",
        "import ppscore as pps\n",
        "import seaborn as sns\n",
        "sns.set(style=\"whitegrid\")\n",
        "import matplotlib.pyplot as plt\n",
        "\n",
        "def heatmap_corr(df,threshold, figsize=(20,12), font_annot = 8):\n",
        "  if len(df.columns) > 1:\n",
        "    mask = np.zeros_like(df, dtype=np.bool)\n",
        "    mask[np.triu_indices_from(mask)] = True\n",
        "    mask[abs(df) < threshold] = True\n",
        "\n",
        "    fig, axes = plt.subplots(figsize=figsize)\n",
        "    sns.heatmap(df, annot=True, xticklabels=True, yticklabels=True,\n",
        "                mask=mask, cmap='viridis', annot_kws={\"size\": font_annot}, ax=axes,\n",
        "                linewidth=0.5\n",
        "                     )\n",
        "    axes.set_yticklabels(df.columns, rotation = 0)\n",
        "    plt.ylim(len(df.columns),0)\n",
        "    if df.name == \"corr_spearman\":\n",
        "      plt.savefig(f'docs/heatmap_corr_spearman.png', bbox_inches='tight')\n",
        "    else:\n",
        "      plt.savefig(f'docs/heatmap_corr_pearson.png', bbox_inches='tight')\n",
        "    plt.show()\n",
        "\n",
        "\n",
        "def heatmap_pps(df,threshold, figsize=(20,12), font_annot = 8):\n",
        "    if len(df.columns) > 1:\n",
        "\n",
        "      mask = np.zeros_like(df, dtype=np.bool)\n",
        "      mask[abs(df) < threshold] = True\n",
        "\n",
        "      fig, ax = plt.subplots(figsize=figsize)\n",
        "      ax = sns.heatmap(df, annot=True, xticklabels=True,yticklabels=True,\n",
        "                       mask=mask,cmap='rocket_r', annot_kws={\"size\": font_annot},\n",
        "                       linewidth=0.05,linecolor='grey')\n",
        "      \n",
        "      plt.ylim(len(df.columns),0)\n",
        "      plt.savefig(f'docs/heatmap_pps.png', bbox_inches='tight')\n",
        "      plt.show()\n",
        "\n",
        "\n",
        "def CalculateCorrAndPPS(df):\n",
        "  df_corr_spearman = df.corr(method=\"spearman\")\n",
        "  df_corr_spearman.name = 'corr_spearman'\n",
        "  df_corr_pearson = df.corr(method=\"pearson\")\n",
        "  df_corr_pearson.name = 'corr_pearson'\n",
        "\n",
        "  pps_matrix_raw = pps.matrix(df)\n",
        "  pps_matrix = pps_matrix_raw.filter(['x', 'y', 'ppscore']).pivot(columns='x', index='y', values='ppscore')\n",
        "\n",
        "  pps_score_stats = pps_matrix_raw.query(\"ppscore < 1\").filter(['ppscore']).describe().T\n",
        "  print(\"PPS threshold - check PPS score IQR to decide threshold for heatmap \\n\")\n",
        "  print(pps_score_stats.round(3))\n",
        "\n",
        "  return df_corr_pearson, df_corr_spearman, pps_matrix\n",
        "\n",
        "\n",
        "def DisplayCorrAndPPS(df_corr_pearson, df_corr_spearman, pps_matrix,CorrThreshold,PPS_Threshold,\n",
        "                      figsize=(20,12), font_annot=8 ):\n",
        "\n",
        "  print(\"\\n\")\n",
        "  print(\"* Analyze how the target variable for your ML models are correlated with other variables (features and target)\")\n",
        "  print(\"* Analyze multi-colinearity, that is, how the features are correlated among themselves\")\n",
        "\n",
        "  print(\"\\n\")\n",
        "  print(\"*** Heatmap: Spearman Correlation ***\")\n",
        "  print(\"It evaluates monotonic relationship \\n\")\n",
        "  heatmap_corr(df=df_corr_spearman, threshold=CorrThreshold, figsize=figsize, font_annot=font_annot)\n",
        "\n",
        "  print(\"\\n\")\n",
        "  print(\"*** Heatmap: Pearson Correlation ***\")\n",
        "  print(\"It evaluates the linear relationship between two continuous variables \\n\")\n",
        "  heatmap_corr(df=df_corr_pearson, threshold=CorrThreshold, figsize=figsize, font_annot=font_annot)\n",
        "\n",
        "  print(\"\\n\")\n",
        "  print(\"*** Heatmap: Power Predictive Score (PPS) ***\")\n",
        "  print(f\"PPS detects linear or non-linear relationships between two columns.\\n\"\n",
        "        f\"The score ranges from 0 (no predictive power) to 1 (perfect predictive power) \\n\")\n",
        "  heatmap_pps(df=pps_matrix,threshold=PPS_Threshold, figsize=figsize, font_annot=font_annot)"
      ]
    },
    {
      "cell_type": "code",
      "execution_count": 13,
      "metadata": {},
      "outputs": [
        {
          "name": "stdout",
          "output_type": "stream",
          "text": [
            "PPS threshold - check PPS score IQR to decide threshold for heatmap \n",
            "\n",
            "         count   mean    std  min  25%  50%    75%    max\n",
            "ppscore  420.0  0.053  0.094  0.0  0.0  0.0  0.067  0.579\n"
          ]
        }
      ],
      "source": [
        "df_corr_pearson, df_corr_spearman, pps_matrix = CalculateCorrAndPPS(df)"
      ]
    },
    {
      "cell_type": "code",
      "execution_count": 20,
      "metadata": {},
      "outputs": [],
      "source": [
        "a='dfg_corr_spearman'"
      ]
    },
    {
      "cell_type": "code",
      "execution_count": 21,
      "metadata": {},
      "outputs": [
        {
          "data": {
            "text/plain": [
              "17"
            ]
          },
          "execution_count": 21,
          "metadata": {},
          "output_type": "execute_result"
        }
      ],
      "source": [
        "len(a)"
      ]
    },
    {
      "cell_type": "code",
      "execution_count": 22,
      "metadata": {},
      "outputs": [
        {
          "data": {
            "text/plain": [
              "'_corr_spearman'"
            ]
          },
          "execution_count": 22,
          "metadata": {},
          "output_type": "execute_result"
        }
      ],
      "source": [
        "a[3:]"
      ]
    },
    {
      "cell_type": "code",
      "execution_count": 14,
      "metadata": {},
      "outputs": [
        {
          "name": "stdout",
          "output_type": "stream",
          "text": [
            "\n",
            "\n",
            "* Analyze how the target variable for your ML models are correlated with other variables (features and target)\n",
            "* Analyze multi-colinearity, that is, how the features are correlated among themselves\n",
            "\n",
            "\n",
            "*** Heatmap: Spearman Correlation ***\n",
            "It evaluates monotonic relationship \n",
            "\n"
          ]
        },
        {
          "ename": "ValueError",
          "evalue": "The truth value of a DataFrame is ambiguous. Use a.empty, a.bool(), a.item(), a.any() or a.all().",
          "output_type": "error",
          "traceback": [
            "\u001b[0;31m---------------------------------------------------------------------------\u001b[0m",
            "\u001b[0;31mValueError\u001b[0m                                Traceback (most recent call last)",
            "\u001b[1;32m/workspace/heritage-housing-issues/jupyter_notebooks/03 - Correlation_Study.ipynb Cell 21\u001b[0m in \u001b[0;36m<cell line: 1>\u001b[0;34m()\u001b[0m\n\u001b[0;32m----> <a href='vscode-notebook-cell://amareteklay-heritagehou-quldfn7c95q.ws-eu70.gitpod.io/workspace/heritage-housing-issues/jupyter_notebooks/03%20-%20Correlation_Study.ipynb#X26sdnNjb2RlLXJlbW90ZQ%3D%3D?line=0'>1</a>\u001b[0m DisplayCorrAndPPS(df_corr_pearson \u001b[39m=\u001b[39;49m df_corr_pearson,\n\u001b[1;32m      <a href='vscode-notebook-cell://amareteklay-heritagehou-quldfn7c95q.ws-eu70.gitpod.io/workspace/heritage-housing-issues/jupyter_notebooks/03%20-%20Correlation_Study.ipynb#X26sdnNjb2RlLXJlbW90ZQ%3D%3D?line=1'>2</a>\u001b[0m                   df_corr_spearman \u001b[39m=\u001b[39;49m df_corr_spearman, \n\u001b[1;32m      <a href='vscode-notebook-cell://amareteklay-heritagehou-quldfn7c95q.ws-eu70.gitpod.io/workspace/heritage-housing-issues/jupyter_notebooks/03%20-%20Correlation_Study.ipynb#X26sdnNjb2RlLXJlbW90ZQ%3D%3D?line=2'>3</a>\u001b[0m                   pps_matrix \u001b[39m=\u001b[39;49m pps_matrix,\n\u001b[1;32m      <a href='vscode-notebook-cell://amareteklay-heritagehou-quldfn7c95q.ws-eu70.gitpod.io/workspace/heritage-housing-issues/jupyter_notebooks/03%20-%20Correlation_Study.ipynb#X26sdnNjb2RlLXJlbW90ZQ%3D%3D?line=3'>4</a>\u001b[0m                   CorrThreshold \u001b[39m=\u001b[39;49m \u001b[39m0.4\u001b[39;49m, PPS_Threshold \u001b[39m=\u001b[39;49m\u001b[39m0.2\u001b[39;49m,\n\u001b[1;32m      <a href='vscode-notebook-cell://amareteklay-heritagehou-quldfn7c95q.ws-eu70.gitpod.io/workspace/heritage-housing-issues/jupyter_notebooks/03%20-%20Correlation_Study.ipynb#X26sdnNjb2RlLXJlbW90ZQ%3D%3D?line=4'>5</a>\u001b[0m                   figsize\u001b[39m=\u001b[39;49m(\u001b[39m12\u001b[39;49m,\u001b[39m10\u001b[39;49m), font_annot\u001b[39m=\u001b[39;49m\u001b[39m10\u001b[39;49m)\n",
            "\u001b[1;32m/workspace/heritage-housing-issues/jupyter_notebooks/03 - Correlation_Study.ipynb Cell 21\u001b[0m in \u001b[0;36mDisplayCorrAndPPS\u001b[0;34m(df_corr_pearson, df_corr_spearman, pps_matrix, CorrThreshold, PPS_Threshold, figsize, font_annot)\u001b[0m\n\u001b[1;32m     <a href='vscode-notebook-cell://amareteklay-heritagehou-quldfn7c95q.ws-eu70.gitpod.io/workspace/heritage-housing-issues/jupyter_notebooks/03%20-%20Correlation_Study.ipynb#X26sdnNjb2RlLXJlbW90ZQ%3D%3D?line=64'>65</a>\u001b[0m \u001b[39mprint\u001b[39m(\u001b[39m\"\u001b[39m\u001b[39m*** Heatmap: Spearman Correlation ***\u001b[39m\u001b[39m\"\u001b[39m)\n\u001b[1;32m     <a href='vscode-notebook-cell://amareteklay-heritagehou-quldfn7c95q.ws-eu70.gitpod.io/workspace/heritage-housing-issues/jupyter_notebooks/03%20-%20Correlation_Study.ipynb#X26sdnNjb2RlLXJlbW90ZQ%3D%3D?line=65'>66</a>\u001b[0m \u001b[39mprint\u001b[39m(\u001b[39m\"\u001b[39m\u001b[39mIt evaluates monotonic relationship \u001b[39m\u001b[39m\\n\u001b[39;00m\u001b[39m\"\u001b[39m)\n\u001b[0;32m---> <a href='vscode-notebook-cell://amareteklay-heritagehou-quldfn7c95q.ws-eu70.gitpod.io/workspace/heritage-housing-issues/jupyter_notebooks/03%20-%20Correlation_Study.ipynb#X26sdnNjb2RlLXJlbW90ZQ%3D%3D?line=66'>67</a>\u001b[0m heatmap_corr(df\u001b[39m=\u001b[39;49mdf_corr_spearman, threshold\u001b[39m=\u001b[39;49mCorrThreshold, figsize\u001b[39m=\u001b[39;49mfigsize, font_annot\u001b[39m=\u001b[39;49mfont_annot)\n\u001b[1;32m     <a href='vscode-notebook-cell://amareteklay-heritagehou-quldfn7c95q.ws-eu70.gitpod.io/workspace/heritage-housing-issues/jupyter_notebooks/03%20-%20Correlation_Study.ipynb#X26sdnNjb2RlLXJlbW90ZQ%3D%3D?line=68'>69</a>\u001b[0m \u001b[39mprint\u001b[39m(\u001b[39m\"\u001b[39m\u001b[39m\\n\u001b[39;00m\u001b[39m\"\u001b[39m)\n\u001b[1;32m     <a href='vscode-notebook-cell://amareteklay-heritagehou-quldfn7c95q.ws-eu70.gitpod.io/workspace/heritage-housing-issues/jupyter_notebooks/03%20-%20Correlation_Study.ipynb#X26sdnNjb2RlLXJlbW90ZQ%3D%3D?line=69'>70</a>\u001b[0m \u001b[39mprint\u001b[39m(\u001b[39m\"\u001b[39m\u001b[39m*** Heatmap: Pearson Correlation ***\u001b[39m\u001b[39m\"\u001b[39m)\n",
            "\u001b[1;32m/workspace/heritage-housing-issues/jupyter_notebooks/03 - Correlation_Study.ipynb Cell 21\u001b[0m in \u001b[0;36mheatmap_corr\u001b[0;34m(df, threshold, figsize, font_annot)\u001b[0m\n\u001b[1;32m     <a href='vscode-notebook-cell://amareteklay-heritagehou-quldfn7c95q.ws-eu70.gitpod.io/workspace/heritage-housing-issues/jupyter_notebooks/03%20-%20Correlation_Study.ipynb#X26sdnNjb2RlLXJlbW90ZQ%3D%3D?line=17'>18</a>\u001b[0m axes\u001b[39m.\u001b[39mset_yticklabels(df\u001b[39m.\u001b[39mcolumns, rotation \u001b[39m=\u001b[39m \u001b[39m0\u001b[39m)\n\u001b[1;32m     <a href='vscode-notebook-cell://amareteklay-heritagehou-quldfn7c95q.ws-eu70.gitpod.io/workspace/heritage-housing-issues/jupyter_notebooks/03%20-%20Correlation_Study.ipynb#X26sdnNjb2RlLXJlbW90ZQ%3D%3D?line=18'>19</a>\u001b[0m plt\u001b[39m.\u001b[39mylim(\u001b[39mlen\u001b[39m(df\u001b[39m.\u001b[39mcolumns),\u001b[39m0\u001b[39m)\n\u001b[0;32m---> <a href='vscode-notebook-cell://amareteklay-heritagehou-quldfn7c95q.ws-eu70.gitpod.io/workspace/heritage-housing-issues/jupyter_notebooks/03%20-%20Correlation_Study.ipynb#X26sdnNjb2RlLXJlbW90ZQ%3D%3D?line=19'>20</a>\u001b[0m \u001b[39mif\u001b[39;00m df \u001b[39m==\u001b[39m df_corr_spearman:\n\u001b[1;32m     <a href='vscode-notebook-cell://amareteklay-heritagehou-quldfn7c95q.ws-eu70.gitpod.io/workspace/heritage-housing-issues/jupyter_notebooks/03%20-%20Correlation_Study.ipynb#X26sdnNjb2RlLXJlbW90ZQ%3D%3D?line=20'>21</a>\u001b[0m   plt\u001b[39m.\u001b[39msavefig(\u001b[39mf\u001b[39m\u001b[39m'\u001b[39m\u001b[39mdocs/heatmap_corr_spearman.png\u001b[39m\u001b[39m'\u001b[39m, bbox_inches\u001b[39m=\u001b[39m\u001b[39m'\u001b[39m\u001b[39mtight\u001b[39m\u001b[39m'\u001b[39m)\n\u001b[1;32m     <a href='vscode-notebook-cell://amareteklay-heritagehou-quldfn7c95q.ws-eu70.gitpod.io/workspace/heritage-housing-issues/jupyter_notebooks/03%20-%20Correlation_Study.ipynb#X26sdnNjb2RlLXJlbW90ZQ%3D%3D?line=21'>22</a>\u001b[0m \u001b[39melse\u001b[39;00m:\n",
            "File \u001b[0;32m~/.pyenv/versions/3.8.12/lib/python3.8/site-packages/pandas/core/generic.py:1326\u001b[0m, in \u001b[0;36mNDFrame.__nonzero__\u001b[0;34m(self)\u001b[0m\n\u001b[1;32m   1325\u001b[0m \u001b[39mdef\u001b[39;00m \u001b[39m__nonzero__\u001b[39m(\u001b[39mself\u001b[39m):\n\u001b[0;32m-> 1326\u001b[0m     \u001b[39mraise\u001b[39;00m \u001b[39mValueError\u001b[39;00m(\n\u001b[1;32m   1327\u001b[0m         \u001b[39mf\u001b[39m\u001b[39m\"\u001b[39m\u001b[39mThe truth value of a \u001b[39m\u001b[39m{\u001b[39;00m\u001b[39mtype\u001b[39m(\u001b[39mself\u001b[39m)\u001b[39m.\u001b[39m\u001b[39m__name__\u001b[39m\u001b[39m}\u001b[39;00m\u001b[39m is ambiguous. \u001b[39m\u001b[39m\"\u001b[39m\n\u001b[1;32m   1328\u001b[0m         \u001b[39m\"\u001b[39m\u001b[39mUse a.empty, a.bool(), a.item(), a.any() or a.all().\u001b[39m\u001b[39m\"\u001b[39m\n\u001b[1;32m   1329\u001b[0m     )\n",
            "\u001b[0;31mValueError\u001b[0m: The truth value of a DataFrame is ambiguous. Use a.empty, a.bool(), a.item(), a.any() or a.all()."
          ]
        },
        {
          "data": {
            "image/png": "[encoded data removed]",
            "text/plain": [
              "<Figure size 864x720 with 2 Axes>"
            ]
          },
          "metadata": {},
          "output_type": "display_data"
        }
      ],
      "source": [
        "DisplayCorrAndPPS(df_corr_pearson = df_corr_pearson,\n",
        "                  df_corr_spearman = df_corr_spearman, \n",
        "                  pps_matrix = pps_matrix,\n",
        "                  CorrThreshold = 0.4, PPS_Threshold =0.2,\n",
        "                  figsize=(12,10), font_annot=10)"
      ]
    },
    {
      "cell_type": "code",
      "execution_count": null,
      "metadata": {},
      "outputs": [],
      "source": [
        "from feature_engine.encoding import OneHotEncoder\n",
        "encoder = OneHotEncoder(variables=df.columns[df.dtypes=='object'].to_list(), drop_last=False)\n",
        "df_ohe = encoder.fit_transform(df)\n",
        "print(df_ohe.shape)\n",
        "df_ohe.head(5)"
      ]
    },
    {
      "cell_type": "code",
      "execution_count": null,
      "metadata": {},
      "outputs": [],
      "source": [
        "corr_spearman = df_ohe.corr(method='spearman')['SalePrice'].sort_values(key=abs, ascending=False)[1:].head(15)\n",
        "corr_spearman"
      ]
    },
    {
      "cell_type": "code",
      "execution_count": null,
      "metadata": {},
      "outputs": [],
      "source": [
        "corr_pearson = df_ohe.corr(method='pearson')['SalePrice'].sort_values(key=abs, ascending=False)[1:].head(15)\n",
        "corr_pearson"
      ]
    },
    {
      "cell_type": "code",
      "execution_count": null,
      "metadata": {},
      "outputs": [],
      "source": [
        "top_n = 10\n",
        "set(corr_pearson[:top_n].index.to_list() + corr_spearman[:top_n].index.to_list())"
      ]
    },
    {
      "cell_type": "markdown",
      "metadata": {},
      "source": [
        "Based on the correlation study results, we will focus on the following variables and their relationship to house sale prices.\n",
        "* 1stFlrSF\n",
        "* GarageArea\n",
        "* GrLivArea\n",
        "* KitchenQual\n",
        "* MasVnrArea\n",
        "* OpenPorchSF\n",
        "* OverallQual\n",
        "* TotalBsmtSF\n",
        "* YearBuilt\n",
        "* YearRemodAdd"
      ]
    },
    {
      "cell_type": "code",
      "execution_count": null,
      "metadata": {},
      "outputs": [],
      "source": [
        "vars_to_study = ['1stFlrSF', 'GarageArea', 'GrLivArea', 'KitchenQual', 'MasVnrArea', 'OpenPorchSF', 'OverallQual', 'TotalBsmtSF', 'YearBuilt', 'YearRemodAdd']\n",
        "vars_to_study"
      ]
    },
    {
      "cell_type": "markdown",
      "metadata": {},
      "source": [
        "# EDA on selected variables"
      ]
    },
    {
      "cell_type": "code",
      "execution_count": null,
      "metadata": {},
      "outputs": [],
      "source": [
        "df_eda = df.filter(vars_to_study + ['SalePrice'])\n",
        "df_eda.head()"
      ]
    },
    {
      "cell_type": "markdown",
      "metadata": {},
      "source": [
        "## Target Analysis\n",
        "### Distribution of Sales Price"
      ]
    },
    {
      "cell_type": "markdown",
      "metadata": {},
      "source": [
        "We plot the distribution of sale price in relation to both numerical and categorical features"
      ]
    },
    {
      "cell_type": "code",
      "execution_count": null,
      "metadata": {},
      "outputs": [],
      "source": [
        "sns.set_style('whitegrid')\n",
        "\n",
        "time = ['YearBuilt', 'YearRemodAdd']\n",
        "\n",
        "def plot_scatter(df, col, target_var):\n",
        "\n",
        "  plt.figure(figsize=(12, 5))\n",
        "  sns.scatterplot(data=df, x=col, y=target_var)\n",
        "  plt.title(f\"{col}\", fontsize=20)        \n",
        "  plt.show()\n",
        "\n",
        "def plot_line(df, col, target_var):\n",
        "\n",
        "  plt.figure(figsize=(12, 5))\n",
        "  sns.lineplot(data=df, x=col, y=target_var)\n",
        "  plt.title(f\"{col}\", fontsize=20)        \n",
        "  plt.show()\n",
        "\n",
        "def plot_box(df, col, target_var):\n",
        "  plt.figure(figsize=(8, 5))\n",
        "  sns.boxplot(data=df, x=col, y=target_var) \n",
        "  plt.title(f\"{col}\", fontsize=20)\n",
        "  plt.show()\n",
        "\n",
        "\n",
        "target_var = 'SalePrice'\n",
        "for col in vars_to_study:\n",
        "  if len(df_eda[col].unique()) <= 10:\n",
        "    plot_box(df_eda, col, target_var)\n",
        "    print(\"\\n\\n\")\n",
        "  else:\n",
        "    if col in time:\n",
        "      plot_line(df_eda, col, target_var)\n",
        "      print(\"\\n\\n\")\n",
        "    else:\n",
        "      plot_scatter(df_eda, col, target_var)\n",
        "      print(\"\\n\\n\")"
      ]
    },
    {
      "cell_type": "markdown",
      "metadata": {},
      "source": [
        "---"
      ]
    },
    {
      "cell_type": "markdown",
      "metadata": {
        "id": "ltNetd085qHf"
      },
      "source": [
        "# Conclusions and Next steps"
      ]
    },
    {
      "cell_type": "markdown",
      "metadata": {},
      "source": [
        "We make the following observations from both the correlation analysis and the plots.\n",
        "* Higher values of 1stFlrSF, garage area, GrLivArea, MasVnrArea and TotalBsmtSF are associated with higher sale price.\n",
        "* Houses with recently added remods have higher prices than those of earlier ones.  \n",
        "* Higher Overall quality indicates higher sale prices but kitchen quality does not show clear pattern. "
      ]
    }
  ],
  "metadata": {
    "accelerator": "GPU",
    "colab": {
      "name": "Data Practitioner Jupyter Notebook.ipynb",
      "provenance": [],
      "toc_visible": true
    },
    "interpreter": {
      "hash": "8b8334dab9339717f727a1deaf837b322d7a41c20d15cc86be99a8e69ceec8ce"
    },
    "kernelspec": {
      "display_name": "Python 3.8.12 64-bit ('3.8.12': pyenv)",
      "name": "python3"
    },
    "language_info": {
      "codemirror_mode": {
        "name": "ipython",
        "version": 3
      },
      "file_extension": ".py",
      "mimetype": "text/x-python",
      "name": "python",
      "nbconvert_exporter": "python",
      "pygments_lexer": "ipython3",
      "version": "3.8.12"
    },
    "orig_nbformat": 2
  },
  "nbformat": 4,
  "nbformat_minor": 2
}
